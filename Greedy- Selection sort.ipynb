{
 "cells": [
  {
   "cell_type": "code",
   "execution_count": 1,
   "id": "c61127df",
   "metadata": {},
   "outputs": [
    {
     "name": "stdout",
     "output_type": "stream",
     "text": [
      "Sorted array\n",
      "23 25 47 68 64 83 "
     ]
    }
   ],
   "source": [
    "import sys\n",
    "A = [23,64,83,47,25,68]\n",
    "\n",
    "\n",
    "for i in range(len(A)):\n",
    " \n",
    "    min_idx = i\n",
    "    for j in range(i+1, len(A)):\n",
    "        if A[min_idx] > A[j]:\n",
    "            min_idx = j\n",
    "            \n",
    "            A[i], A[min_idx] = A[min_idx], A[i]\n",
    "\n",
    "\n",
    "print (\"Sorted array\")\n",
    "for i in range(len(A)):\n",
    "    print(\"%d\" %A[i],end=\" \")"
   ]
  },
  {
   "cell_type": "code",
   "execution_count": null,
   "id": "ac8c01e6",
   "metadata": {},
   "outputs": [],
   "source": []
  }
 ],
 "metadata": {
  "kernelspec": {
   "display_name": "Python 3",
   "language": "python",
   "name": "python3"
  },
  "language_info": {
   "codemirror_mode": {
    "name": "ipython",
    "version": 3
   },
   "file_extension": ".py",
   "mimetype": "text/x-python",
   "name": "python",
   "nbconvert_exporter": "python",
   "pygments_lexer": "ipython3",
   "version": "3.8.8"
  }
 },
 "nbformat": 4,
 "nbformat_minor": 5
}
