{
 "cells": [
  {
   "cell_type": "code",
   "execution_count": 2,
   "id": "f385cb4d",
   "metadata": {},
   "outputs": [
    {
     "name": "stdout",
     "output_type": "stream",
     "text": [
      "0 0 1 0 \n",
      "1 0 0 0 \n",
      "0 0 0 1 \n",
      "0 1 0 0 \n"
     ]
    },
    {
     "data": {
      "text/plain": [
       "True"
      ]
     },
     "execution_count": 2,
     "metadata": {},
     "output_type": "execute_result"
    }
   ],
   "source": [
    "global N\n",
    "N = 4\n",
    "def printSolution(board):\n",
    "    for i in range(N):\n",
    "        for j in range(N):\n",
    "            print (board[i][j], end = \" \")\n",
    "        print()\n",
    "def isSafe(board, row, col):\n",
    " \n",
    "    for i in range(col):\n",
    "        if board[row][i] == 1:\n",
    "            return False\n",
    " \n",
    "    for i, j in zip(range(row, -1, -1),\n",
    "                    range(col, -1, -1)):\n",
    "        if board[i][j] == 1:\n",
    "            return False\n",
    " \n",
    "    for i, j in zip(range(row, N, 1),\n",
    "                    range(col, -1, -1)):\n",
    "        if board[i][j] == 1:\n",
    "            return False\n",
    " \n",
    "    return True\n",
    " \n",
    "def solveNQUtil(board, col):\n",
    "     \n",
    "    # base case: If all queens are placed\n",
    "    # then return true\n",
    "    if col >= N:\n",
    "        return True\n",
    " \n",
    "    for i in range(N):\n",
    " \n",
    "        if isSafe(board, i, col):\n",
    "             \n",
    "            board[i][col] = 1\n",
    " \n",
    "            if solveNQUtil(board, col + 1) == True:\n",
    "                return True\n",
    " \n",
    "            board[i][col] = 0\n",
    " \n",
    "    # if the queen can not be placed in any row in\n",
    "    # this column col then return false\n",
    "    return False\n",
    " \n",
    "def solveNQ():\n",
    "    board = [ [0, 0, 0, 0],\n",
    "              [0, 0, 0, 0],\n",
    "              [0, 0, 0, 0],\n",
    "              [0, 0, 0, 0] ]\n",
    " \n",
    "    if solveNQUtil(board, 0) == False:\n",
    "        print (\"Solution does not exist\")\n",
    "        return False\n",
    " \n",
    "    printSolution(board)\n",
    "    return True\n",
    "solveNQ()"
   ]
  },
  {
   "cell_type": "code",
   "execution_count": null,
   "id": "a2b47d2f",
   "metadata": {},
   "outputs": [],
   "source": []
  }
 ],
 "metadata": {
  "kernelspec": {
   "display_name": "Python 3",
   "language": "python",
   "name": "python3"
  },
  "language_info": {
   "codemirror_mode": {
    "name": "ipython",
    "version": 3
   },
   "file_extension": ".py",
   "mimetype": "text/x-python",
   "name": "python",
   "nbconvert_exporter": "python",
   "pygments_lexer": "ipython3",
   "version": "3.8.8"
  }
 },
 "nbformat": 4,
 "nbformat_minor": 5
}
